{
  "nbformat": 4,
  "nbformat_minor": 0,
  "metadata": {
    "colab": {
      "provenance": [],
      "toc_visible": true,
      "authorship_tag": "ABX9TyOKAZDyJSD+47T3Db5VxaOo",
      "include_colab_link": true
    },
    "kernelspec": {
      "name": "python3",
      "display_name": "Python 3"
    },
    "language_info": {
      "name": "python"
    }
  },
  "cells": [
    {
      "cell_type": "markdown",
      "metadata": {
        "id": "view-in-github",
        "colab_type": "text"
      },
      "source": [
        "<a href=\"https://colab.research.google.com/github/bl00dl4nah/BD2/blob/main/Exerc%C3%ADcios%20View%2C%20Procedure%2C%20Function%20e%20Trigger.ipynb\" target=\"_parent\"><img src=\"https://colab.research.google.com/assets/colab-badge.svg\" alt=\"Open In Colab\"/></a>"
      ]
    },
    {
      "cell_type": "code",
      "execution_count": 19,
      "metadata": {
        "colab": {
          "base_uri": "https://localhost:8080/"
        },
        "id": "K9lvp3CB31Nr",
        "outputId": "522ed576-0c6e-4297-b48e-3ceaef73eda0"
      },
      "outputs": [
        {
          "output_type": "stream",
          "name": "stdout",
          "text": [
            "Dados da tabela Taxista:\n",
            "   ID          Nome  Salario_base  Taxa_comissao Registro Contato\n",
            "0   1   Aline Silva        2000.0            5.0   REG001    None\n",
            "1   2    João Souza        1800.0            4.5   REG002    None\n",
            "2   3  Maria Santos        2200.0            6.0   REG003    None\n"
          ]
        }
      ],
      "source": [
        "import sqlite3\n",
        "import pandas as pd\n",
        "\n",
        "# Conectar ao SQLite em memória\n",
        "conn = sqlite3.connect(':memory:')\n",
        "cursor = conn.cursor()\n",
        "\n",
        "# Criar todas as tabelas do exercício\n",
        "cursor.executescript('''\n",
        "CREATE TABLE Taxista (\n",
        "    ID INTEGER PRIMARY KEY AUTOINCREMENT,\n",
        "    Nome TEXT NOT NULL,\n",
        "    Salario_base REAL NOT NULL,\n",
        "    Taxa_comissao REAL NOT NULL,\n",
        "    Registro TEXT UNIQUE NOT NULL,\n",
        "    Contato TEXT\n",
        ");\n",
        "\n",
        "CREATE TABLE Regiao (\n",
        "    ID INTEGER PRIMARY KEY AUTOINCREMENT,\n",
        "    Nome TEXT NOT NULL,\n",
        "    total_taxistas INTEGER DEFAULT 0\n",
        ");\n",
        "\n",
        "CREATE TABLE Municipio (\n",
        "    ID INTEGER PRIMARY KEY AUTOINCREMENT,\n",
        "    Nome TEXT NOT NULL\n",
        ");\n",
        "\n",
        "CREATE TABLE Atende (\n",
        "    ID_Taxista INTEGER,\n",
        "    ID_Regiao INTEGER,\n",
        "    PRIMARY KEY (ID_Taxista, ID_Regiao),\n",
        "    FOREIGN KEY (ID_Taxista) REFERENCES Taxista(ID),\n",
        "    FOREIGN KEY (ID_Regiao) REFERENCES Regiao(ID)\n",
        ");\n",
        "\n",
        "CREATE TABLE Regiao_Municipio (\n",
        "    ID_Regiao INTEGER,\n",
        "    ID_Municipio INTEGER,\n",
        "    PRIMARY KEY (ID_Regiao, ID_Municipio),\n",
        "    FOREIGN KEY (ID_Regiao) REFERENCES Regiao(ID),\n",
        "    FOREIGN KEY (ID_Municipio) REFERENCES Municipio(ID)\n",
        ");\n",
        "''')\n",
        "\n",
        "# Inserir dados de exemplo\n",
        "cursor.executescript('''\n",
        "INSERT INTO Taxista (Nome, Salario_base, Taxa_comissao, Registro) VALUES\n",
        "('Aline Silva', 2000.00, 5.00, 'REG001'),\n",
        "('João Souza', 1800.00, 4.50, 'REG002'),\n",
        "('Maria Santos', 2200.00, 6.00, 'REG003');\n",
        "\n",
        "INSERT INTO Regiao (Nome) VALUES\n",
        "('Centro'),\n",
        "('Zona Norte'),\n",
        "('Zona Sul');\n",
        "\n",
        "INSERT INTO Municipio (Nome) VALUES\n",
        "('Belo Horizonte'),\n",
        "('Contagem'),\n",
        "('Betim');\n",
        "\n",
        "INSERT INTO Regiao_Municipio (ID_Regiao, ID_Municipio) VALUES\n",
        "(1, 1), (2, 2), (3, 3);\n",
        "\n",
        "INSERT INTO Atende (ID_Taxista, ID_Regiao) VALUES\n",
        "(1, 1), (1, 2), (2, 3), (3, 1);\n",
        "''')\n",
        "\n",
        "conn.commit()\n",
        "\n",
        "# Testar uma consulta\n",
        "df = pd.read_sql_query(\"SELECT * FROM Taxista\", conn)\n",
        "print(\"Dados da tabela Taxista:\")\n",
        "print(df)"
      ]
    },
    {
      "cell_type": "code",
      "source": [
        "print(\"Total de taxistas por região (apenas chaves estrangeiras) ---\")\n",
        "sql_q1 = \"\"\"\n",
        "SELECT\n",
        "    ID_Regiao,\n",
        "    COUNT(ID_Taxista) as total_taxistas\n",
        "FROM Atende\n",
        "GROUP BY ID_Regiao;\n",
        "\"\"\"\n",
        "df_q1 = pd.read_sql_query(sql_q1, conn)\n",
        "print(df_q1)"
      ],
      "metadata": {
        "colab": {
          "base_uri": "https://localhost:8080/"
        },
        "id": "gNLqBxrJ8Iqg",
        "outputId": "1a7cd98b-c124-4293-bfd5-67024d6a2b80"
      },
      "execution_count": 20,
      "outputs": [
        {
          "output_type": "stream",
          "name": "stdout",
          "text": [
            "Total de taxistas por região (apenas chaves estrangeiras) ---\n",
            "   ID_Regiao  total_taxistas\n",
            "0          1               2\n",
            "1          2               1\n",
            "2          3               1\n"
          ]
        }
      ]
    },
    {
      "cell_type": "code",
      "source": [
        "try:\n",
        "    cursor.execute(\"DROP VIEW IF EXISTS vw_total_taxistas_por_regiao;\")\n",
        "    sql_q2_view = \"\"\"\n",
        "    CREATE VIEW vw_total_taxistas_por_regiao AS\n",
        "    SELECT\n",
        "        T2.Nome AS Nome_Regiao,\n",
        "        COUNT(T1.ID_Taxista) AS total_taxistas\n",
        "    FROM Atende AS T1\n",
        "    JOIN Regiao AS T2 ON T1.ID_Regiao = T2.ID\n",
        "    GROUP BY T1.ID_Regiao;\n",
        "    \"\"\"\n",
        "    cursor.execute(sql_q2_view)\n",
        "\n",
        "    sql_q2_select = \"SELECT * FROM vw_total_taxistas_por_regiao;\"\n",
        "    df_q2 = pd.read_sql_query(sql_q2_select, conn)\n",
        "    print(df_q2)\n",
        "\n",
        "except sqlite3.OperationalError as e:\n",
        "    print(f\"Erro ao criar a VIEW: {e}. O SQLite não suporta VIEWs com GROUP BY, o que impede a execução desta e das próximas questões. As questões seguintes serão implementadas como consultas diretas.\")"
      ],
      "metadata": {
        "colab": {
          "base_uri": "https://localhost:8080/"
        },
        "id": "bhLAqxJi87qH",
        "outputId": "9ea90056-aacc-4a89-9c64-e829eb3f4f23"
      },
      "execution_count": 21,
      "outputs": [
        {
          "output_type": "stream",
          "name": "stdout",
          "text": [
            "  Nome_Regiao  total_taxistas\n",
            "0      Centro               2\n",
            "1  Zona Norte               1\n",
            "2    Zona Sul               1\n"
          ]
        }
      ]
    },
    {
      "cell_type": "code",
      "source": [
        "try:\n",
        "    cursor.execute(\"DROP VIEW IF EXISTS vw_municipios_aline_silva;\")\n",
        "    sql_q3_view = \"\"\"\n",
        "    CREATE VIEW vw_municipios_aline_silva AS\n",
        "    SELECT DISTINCT\n",
        "        T3.Nome AS Nome_Municipio,\n",
        "        T2.Nome AS Nome_Regiao\n",
        "    FROM Atende AS T1\n",
        "    JOIN Regiao AS T2 ON T1.ID_Regiao = T2.ID\n",
        "    JOIN Regiao_Municipio AS T4 ON T2.ID = T4.ID_Regiao\n",
        "    JOIN Municipio AS T3 ON T4.ID_Municipio = T3.ID\n",
        "    JOIN Taxista AS T5 ON T1.ID_Taxista = T5.ID\n",
        "    WHERE T5.Nome = 'Aline Silva';\n",
        "    \"\"\"\n",
        "    cursor.execute(sql_q3_view)\n",
        "\n",
        "    sql_q3_select = \"SELECT * FROM vw_municipios_aline_silva;\"\n",
        "    df_q3 = pd.read_sql_query(sql_q3_select, conn)\n",
        "    print(df_q3)\n",
        "except sqlite3.OperationalError as e:\n",
        "    print(f\"Erro ao criar a VIEW: {e}. Pulando para a próxima questão.\")"
      ],
      "metadata": {
        "colab": {
          "base_uri": "https://localhost:8080/"
        },
        "id": "grQXdmwC9Dw_",
        "outputId": "70ae944f-b5aa-4137-a194-492ce28771e2"
      },
      "execution_count": 22,
      "outputs": [
        {
          "output_type": "stream",
          "name": "stdout",
          "text": [
            "   Nome_Municipio Nome_Regiao\n",
            "0  Belo Horizonte      Centro\n",
            "1        Contagem  Zona Norte\n"
          ]
        }
      ]
    },
    {
      "cell_type": "code",
      "source": [
        "def procedure_consulta_municipios(conn, taxista_nome):\n",
        "    print(f\"Chamando PROCEDURE para o taxista '{taxista_nome}'...\")\n",
        "    sql_proc = f\"\"\"\n",
        "    SELECT DISTINCT\n",
        "        T3.Nome AS Nome_Municipio,\n",
        "        T2.Nome AS Nome_Regiao\n",
        "    FROM Atende AS T1\n",
        "    JOIN Regiao AS T2 ON T1.ID_Regiao = T2.ID\n",
        "    JOIN Regiao_Municipio AS T4 ON T2.ID = T4.ID_Regiao\n",
        "    JOIN Municipio AS T3 ON T4.ID_Municipio = T3.ID\n",
        "    JOIN Taxista AS T5 ON T1.ID_Taxista = T5.ID\n",
        "    WHERE T5.Nome = ?;\n",
        "    \"\"\"\n",
        "    df_proc = pd.read_sql_query(sql_proc, conn, params=(taxista_nome,))\n",
        "    print(df_proc)\n",
        "\n",
        "procedure_consulta_municipios(conn, 'João Souza')"
      ],
      "metadata": {
        "colab": {
          "base_uri": "https://localhost:8080/"
        },
        "id": "2Lt102lA9TUn",
        "outputId": "71430475-465e-4120-fbbc-c1712073389b"
      },
      "execution_count": 23,
      "outputs": [
        {
          "output_type": "stream",
          "name": "stdout",
          "text": [
            "Chamando PROCEDURE para o taxista 'João Souza'...\n",
            "  Nome_Municipio Nome_Regiao\n",
            "0          Betim    Zona Sul\n"
          ]
        }
      ]
    },
    {
      "cell_type": "code",
      "source": [
        "def function_qtd_municipios(conn, taxista_nome):\n",
        "    sql_func = f\"\"\"\n",
        "    SELECT\n",
        "        COUNT(DISTINCT T4.ID_Municipio) AS total_municipios\n",
        "    FROM Atende AS T1\n",
        "    JOIN Regiao AS T2 ON T1.ID_Regiao = T2.ID\n",
        "    JOIN Regiao_Municipio AS T4 ON T2.ID = T4.ID_Regiao\n",
        "    JOIN Taxista AS T5 ON T1.ID_Taxista = T5.ID\n",
        "    WHERE T5.Nome = ?;\n",
        "    \"\"\"\n",
        "    cursor.execute(sql_func, (taxista_nome,))\n",
        "    result = cursor.fetchone()\n",
        "    return result[0] if result else 0\n",
        "\n",
        "total_municipios_joao = function_qtd_municipios(conn, 'João Souza')\n",
        "print(f\"SELECT com a FUNCTION: 'João Souza' atende {total_municipios_joao} municípios.\")"
      ],
      "metadata": {
        "colab": {
          "base_uri": "https://localhost:8080/"
        },
        "id": "OBhTsNu09WxX",
        "outputId": "65342927-a67d-4207-b996-2b1f32fc6240"
      },
      "execution_count": 24,
      "outputs": [
        {
          "output_type": "stream",
          "name": "stdout",
          "text": [
            "SELECT com a FUNCTION: 'João Souza' atende 1 municípios.\n"
          ]
        }
      ]
    },
    {
      "cell_type": "code",
      "source": [
        "class TaxistaNaoCadastrada(Exception):\n",
        "    def __init__(self, message=\"Taxista não cadastrada, verifique o nome informado\"):\n",
        "        self.message = message\n",
        "        super().__init__(self.message)\n",
        "\n",
        "def function_qtd_municipios_verificada(conn, taxista_nome):\n",
        "    cursor.execute(\"SELECT COUNT(*) FROM Taxista WHERE Nome = ?\", (taxista_nome,))\n",
        "    if cursor.fetchone()[0] == 0:\n",
        "        raise TaxistaNaoCadastrada()\n",
        "\n",
        "    sql_func = f\"\"\"\n",
        "    SELECT\n",
        "        COUNT(DISTINCT T4.ID_Municipio) AS total_municipios\n",
        "    FROM Atende AS T1\n",
        "    JOIN Regiao AS T2 ON T1.ID_Regiao = T2.ID\n",
        "    JOIN Regiao_Municipio AS T4 ON T2.ID = T4.ID_Regiao\n",
        "    JOIN Taxista AS T5 ON T1.ID_Taxista = T5.ID\n",
        "    WHERE T5.Nome = ?;\n",
        "    \"\"\"\n",
        "    cursor.execute(sql_func, (taxista_nome,))\n",
        "    return cursor.fetchone()[0]\n",
        "\n",
        "try:\n",
        "    total_municipios_maria = function_qtd_municipios_verificada(conn, 'Maria Santos')\n",
        "    print(f\"SELECT com a FUNCTION: 'Maria Santos' atende {total_municipios_maria} municípios.\")\n",
        "    total_municipios_nao_existe = function_qtd_municipios_verificada(conn, 'José da Silva')\n",
        "except TaxistaNaoCadastrada as e:\n",
        "    print(f\"Erro customizado: {e}\")\n"
      ],
      "metadata": {
        "colab": {
          "base_uri": "https://localhost:8080/"
        },
        "id": "xQXIo7_o9lzY",
        "outputId": "f8ec0c39-6e0a-4982-edd2-1bfc3df9b8ac"
      },
      "execution_count": 25,
      "outputs": [
        {
          "output_type": "stream",
          "name": "stdout",
          "text": [
            "SELECT com a FUNCTION: 'Maria Santos' atende 1 municípios.\n",
            "Erro customizado: Taxista não cadastrada, verifique o nome informado\n"
          ]
        }
      ]
    },
    {
      "cell_type": "code",
      "source": [
        "try:\n",
        "    cursor.execute(\"DROP TRIGGER IF EXISTS trg_aumenta_salario;\")\n",
        "    sql_q7_trigger = \"\"\"\n",
        "    CREATE TRIGGER trg_aumenta_salario\n",
        "    AFTER INSERT ON Atende\n",
        "    FOR EACH ROW\n",
        "    BEGIN\n",
        "        UPDATE Taxista\n",
        "        SET Salario_base = Salario_base * 1.1\n",
        "        WHERE ID = NEW.ID_Taxista;\n",
        "    END;\n",
        "    \"\"\"\n",
        "    cursor.execute(sql_q7_trigger)\n",
        "\n",
        "    print(\"Salários antes da inserção:\")\n",
        "    df_salarios_antes = pd.read_sql_query(\"SELECT Nome, Salario_base FROM Taxista;\", conn)\n",
        "    print(df_salarios_antes)\n",
        "\n",
        "    print(\"\\nExecutando o evento que dispara o gatilho...\")\n",
        "    cursor.execute(\"INSERT INTO Atende (ID_Taxista, ID_Regiao) VALUES (2, 2);\")\n",
        "    conn.commit()\n",
        "\n",
        "    print(\"\\nSalários após a inserção (salário de João Souza deve aumentar):\")\n",
        "    df_salarios_depois = pd.read_sql_query(\"SELECT Nome, Salario_base FROM Taxista;\", conn)\n",
        "    print(df_salarios_depois)\n",
        "\n",
        "except sqlite3.OperationalError as e:\n",
        "    print(f\"Erro ao criar o TRIGGER: {e}. Pulando para a próxima questão.\")"
      ],
      "metadata": {
        "colab": {
          "base_uri": "https://localhost:8080/"
        },
        "id": "YDu6zxFx9q6o",
        "outputId": "6ba3891a-13b4-40da-e5d8-27f512274b71"
      },
      "execution_count": 26,
      "outputs": [
        {
          "output_type": "stream",
          "name": "stdout",
          "text": [
            "Salários antes da inserção:\n",
            "           Nome  Salario_base\n",
            "0   Aline Silva        2000.0\n",
            "1    João Souza        1800.0\n",
            "2  Maria Santos        2200.0\n",
            "\n",
            "Executando o evento que dispara o gatilho...\n",
            "\n",
            "Salários após a inserção (salário de João Souza deve aumentar):\n",
            "           Nome  Salario_base\n",
            "0   Aline Silva        2000.0\n",
            "1    João Souza        1980.0\n",
            "2  Maria Santos        2200.0\n"
          ]
        }
      ]
    },
    {
      "cell_type": "code",
      "source": [
        "try:\n",
        "    cursor.execute(\"DROP TRIGGER IF EXISTS trg_diminui_salario;\")\n",
        "    sql_q8_trigger = \"\"\"\n",
        "    CREATE TRIGGER trg_diminui_salario\n",
        "    AFTER DELETE ON Atende\n",
        "    FOR EACH ROW\n",
        "    BEGIN\n",
        "        UPDATE Taxista\n",
        "        SET Salario_base = Salario_base / 1.1\n",
        "        WHERE ID = OLD.ID_Taxista;\n",
        "    END;\n",
        "    \"\"\"\n",
        "    cursor.execute(sql_q8_trigger)\n",
        "\n",
        "    print(\"Salários antes da exclusão:\")\n",
        "    df_salarios_antes_del = pd.read_sql_query(\"SELECT Nome, Salario_base FROM Taxista;\", conn)\n",
        "    print(df_salarios_antes_del)\n",
        "\n",
        "    print(\"\\nExecutando o evento que dispara o gatilho...\")\n",
        "    cursor.execute(\"DELETE FROM Atende WHERE ID_Taxista = 2 AND ID_Regiao = 3;\")\n",
        "    conn.commit()\n",
        "\n",
        "    print(\"\\nSalários após a exclusão (salário de João Souza deve diminuir):\")\n",
        "    df_salarios_depois_del = pd.read_sql_query(\"SELECT Nome, Salario_base FROM Taxista;\", conn)\n",
        "    print(df_salarios_depois_del)\n",
        "\n",
        "except sqlite3.OperationalError as e:\n",
        "    print(f\"Erro ao criar o TRIGGER: {e}. A lógica do código é correta, mas a execução pode falhar dependendo da versão do SQLite.\")\n",
        "\n",
        "conn.close()\n"
      ],
      "metadata": {
        "colab": {
          "base_uri": "https://localhost:8080/"
        },
        "id": "lyCH9i3S93hy",
        "outputId": "3a4d45ce-b87a-4732-edb6-4ed972e81196"
      },
      "execution_count": 27,
      "outputs": [
        {
          "output_type": "stream",
          "name": "stdout",
          "text": [
            "Salários antes da exclusão:\n",
            "           Nome  Salario_base\n",
            "0   Aline Silva        2000.0\n",
            "1    João Souza        1980.0\n",
            "2  Maria Santos        2200.0\n",
            "\n",
            "Executando o evento que dispara o gatilho...\n",
            "\n",
            "Salários após a exclusão (salário de João Souza deve diminuir):\n",
            "           Nome  Salario_base\n",
            "0   Aline Silva        2000.0\n",
            "1    João Souza        1800.0\n",
            "2  Maria Santos        2200.0\n"
          ]
        }
      ]
    }
  ]
}